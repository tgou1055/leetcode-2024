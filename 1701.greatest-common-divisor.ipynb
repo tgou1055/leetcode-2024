{
 "cells": [
  {
   "cell_type": "markdown",
   "id": "21399f17-9b87-4caa-8c8b-454e5fb6b16c",
   "metadata": {},
   "source": [
    "For two strings s and t, we say \"t divides s\" if and only if s = t + t + t + ... + t + t (i.e., t is concatenated with itself one or more times).\n",
    "\n",
    "Given two strings str1 and str2, return the largest string x such that x divides both str1 and str2.\n",
    "\n",
    "\n",
    "Example 1:\n",
    "\n",
    "Input: str1 = \"ABCABC\", str2 = \"ABC\"\n",
    "Output: \"ABC\"\n",
    "Example 2:\n",
    "\n",
    "Input: str1 = \"ABABAB\", str2 = \"ABAB\"\n",
    "Output: \"AB\"\n",
    "Example 3:\n",
    "\n",
    "Input: str1 = \"LEET\", str2 = \"CODE\"\n",
    "Output: \"\"\n",
    " \n",
    "\n",
    "Constraints:\n",
    "\n",
    "1 <= str1.length, str2.length <= 1000\n",
    "str1 and str2 consist of English uppercase letters."
   ]
  },
  {
   "cell_type": "code",
   "execution_count": 12,
   "id": "890e2b3f-0f80-44ba-9dc1-49d8caa4d4bb",
   "metadata": {},
   "outputs": [],
   "source": [
    "# O(n) complexity, n is the length of the string\n",
    "\n",
    "def gcdOfStrings(self, str1: str, str2: str) -> str:\n",
    "    divisor1 = []\n",
    "    divisor2 = []\n",
    "\n",
    "    for elem in str1:\n",
    "        if elem not in divisor1:\n",
    "            divisor1.append(elem)\n",
    "    \n",
    "    for elem in str2:\n",
    "        if elem not in divisor2:\n",
    "            divisor2.append(elem)\n",
    "    \n",
    "    if divisor1 == divisor2:\n",
    "        return \"\".join(divisor1)\n",
    "    else:\n",
    "        return \"\""
   ]
  },
  {
   "cell_type": "code",
   "execution_count": 13,
   "id": "7f4e1bd6-23dc-408b-931d-4c7fdf03ad3d",
   "metadata": {},
   "outputs": [
    {
     "data": {
      "text/plain": [
       "'ABC'"
      ]
     },
     "execution_count": 13,
     "metadata": {},
     "output_type": "execute_result"
    }
   ],
   "source": [
    "gcdOfStrings(1,\"ABCABC\",\"ABC\")"
   ]
  },
  {
   "cell_type": "code",
   "execution_count": null,
   "id": "a3d7825f-7138-4011-96f5-673b14d5c768",
   "metadata": {},
   "outputs": [],
   "source": []
  }
 ],
 "metadata": {
  "kernelspec": {
   "display_name": "Python 3 (ipykernel)",
   "language": "python",
   "name": "python3"
  },
  "language_info": {
   "codemirror_mode": {
    "name": "ipython",
    "version": 3
   },
   "file_extension": ".py",
   "mimetype": "text/x-python",
   "name": "python",
   "nbconvert_exporter": "python",
   "pygments_lexer": "ipython3",
   "version": "3.11.5"
  }
 },
 "nbformat": 4,
 "nbformat_minor": 5
}
