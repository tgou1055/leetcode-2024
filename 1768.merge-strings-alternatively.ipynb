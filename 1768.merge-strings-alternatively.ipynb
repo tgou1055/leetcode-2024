{
 "cells": [
  {
   "cell_type": "markdown",
   "id": "82be834b-128b-4a3e-97ca-afbb1a061405",
   "metadata": {},
   "source": [
    "You are given two strings word1 and word2. Merge the strings by adding letters in alternating order, starting with word1. If a string is longer than the other, append the additional letters onto the end of the merged string.\n",
    "\n",
    "Return the merged string.\n",
    "\n",
    " \n",
    "\n",
    "Example 1:\n",
    "\n",
    "Input: word1 = \"abc\", word2 = \"pqr\"\n",
    "Output: \"apbqcr\"\n",
    "Explanation: The merged string will be merged as so:\n",
    "word1:  a   b   c\n",
    "word2:    p   q   r\n",
    "merged: a p b q c r\n",
    "Example 2:\n",
    "\n",
    "Input: word1 = \"ab\", word2 = \"pqrs\"\n",
    "Output: \"apbqrs\"\n",
    "Explanation: Notice that as word2 is longer, \"rs\" is appended to the end.\n",
    "word1:  a   b \n",
    "word2:    p   q   r   s\n",
    "merged: a p b q   r   s\n",
    "Example 3:\n",
    "\n",
    "Input: word1 = \"abcd\", word2 = \"pq\"\n",
    "Output: \"apbqcd\"\n",
    "Explanation: Notice that as word1 is longer, \"cd\" is appended to the end.\n",
    "word1:  a   b   c   d\n",
    "word2:    p   q \n",
    "merged: a p b q c   d\n",
    " \n",
    "\n",
    "Constraints:\n",
    "\n",
    "1 <= word1.length, word2.length <= 100\n",
    "word1 and word2 consist of lowercase English letters."
   ]
  },
  {
   "cell_type": "code",
   "execution_count": 31,
   "id": "5cecca97-2a1d-4362-931c-8e182d635367",
   "metadata": {},
   "outputs": [],
   "source": [
    "def mergeAlternately(self, word1: str, word2: str) -> str:\n",
    "    # define an empty string\n",
    "    merger = \"\"\n",
    "\n",
    "    # transform string to a list\n",
    "    word1 = list(word1)\n",
    "    word2 = list(word2)\n",
    "\n",
    "    # run a while loop until both lists are popped empty\n",
    "    while word1 or word2:\n",
    "        # if word1 is non-empty, add character to merger, and pop the first element in word1\n",
    "        if word1:\n",
    "            merger += word1[0]\n",
    "            word1.pop(0)\n",
    "        # if word1 is non-empty, add character to merger, and pop the first element in word1\n",
    "        if word2:\n",
    "            merger += word2[0]\n",
    "            word2.pop(0)\n",
    "        print(word1)\n",
    "        print(word2)\n",
    "    \n",
    "    return merger"
   ]
  },
  {
   "cell_type": "code",
   "execution_count": 32,
   "id": "24dbe046-74e7-4bcc-a966-5ae42f4e3436",
   "metadata": {},
   "outputs": [
    {
     "name": "stdout",
     "output_type": "stream",
     "text": [
      "['b']\n",
      "['q', 'r']\n",
      "[]\n",
      "['r']\n",
      "[]\n",
      "[]\n"
     ]
    },
    {
     "data": {
      "text/plain": [
       "'apbqr'"
      ]
     },
     "execution_count": 32,
     "metadata": {},
     "output_type": "execute_result"
    }
   ],
   "source": [
    "mergeAlternately(1,\"ab\", \"pqr\")"
   ]
  }
 ],
 "metadata": {
  "kernelspec": {
   "display_name": "Python 3 (ipykernel)",
   "language": "python",
   "name": "python3"
  },
  "language_info": {
   "codemirror_mode": {
    "name": "ipython",
    "version": 3
   },
   "file_extension": ".py",
   "mimetype": "text/x-python",
   "name": "python",
   "nbconvert_exporter": "python",
   "pygments_lexer": "ipython3",
   "version": "3.11.5"
  }
 },
 "nbformat": 4,
 "nbformat_minor": 5
}
